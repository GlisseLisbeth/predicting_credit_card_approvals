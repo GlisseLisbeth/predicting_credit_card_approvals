{
 "cells": [
  {
   "cell_type": "code",
   "execution_count": 2,
   "metadata": {},
   "outputs": [],
   "source": [
    "import pandas as pd\n",
    "import numpy as np\n",
    "import matplotlib.pyplot as plt\n",
    "import seaborn as sns\n",
    "from pylab import *\n",
    "%matplotlib inline\n",
    "%config InlineBackend.figure_format = 'svg'\n",
    "import warnings\n",
    "warnings.filterwarnings('ignore')"
   ]
  },
  {
   "cell_type": "code",
   "execution_count": 3,
   "metadata": {},
   "outputs": [],
   "source": [
    "data = pd.read_csv(\"../../data/sample01/application_record.csv\", encoding = 'utf-8') \n",
    "record = pd.read_csv(\"../../data/sample01/credit_record.csv\", encoding = 'utf-8')  "
   ]
  },
  {
   "cell_type": "code",
   "execution_count": 5,
   "metadata": {},
   "outputs": [
    {
     "output_type": "execute_result",
     "data": {
      "text/plain": "             ID CODE_GENDER FLAG_OWN_CAR FLAG_OWN_REALTY  CNT_CHILDREN  \\\n0       5008804           M            Y               Y             0   \n1       5008805           M            Y               Y             0   \n2       5008806           M            Y               Y             0   \n3       5008808           F            N               Y             0   \n4       5008809           F            N               Y             0   \n...         ...         ...          ...             ...           ...   \n423317  7999660           F            N               N             0   \n426434  7999696           F            N               Y             2   \n432885  7999738           M            N               Y             0   \n421225  7999784           F            Y               Y             1   \n424339  7999952           F            N               Y             1   \n\n        AMT_INCOME_TOTAL      NAME_INCOME_TYPE            NAME_EDUCATION_TYPE  \\\n0               427500.0               Working               Higher education   \n1               427500.0               Working               Higher education   \n2               112500.0               Working  Secondary / secondary special   \n3               270000.0  Commercial associate  Secondary / secondary special   \n4               270000.0  Commercial associate  Secondary / secondary special   \n...                  ...                   ...                            ...   \n423317           90000.0         State servant               Higher education   \n426434          135000.0         State servant  Secondary / secondary special   \n432885          180000.0               Working  Secondary / secondary special   \n421225          180000.0  Commercial associate  Secondary / secondary special   \n424339          157500.0         State servant               Higher education   \n\n          NAME_FAMILY_STATUS  NAME_HOUSING_TYPE  DAYS_BIRTH  DAYS_EMPLOYED  \\\n0             Civil marriage   Rented apartment      -12005          -4542   \n1             Civil marriage   Rented apartment      -12005          -4542   \n2                    Married  House / apartment      -21474          -1134   \n3       Single / not married  House / apartment      -19110          -3051   \n4       Single / not married  House / apartment      -19110          -3051   \n...                      ...                ...         ...            ...   \n423317  Single / not married  House / apartment      -13432          -5446   \n426434               Married  House / apartment      -12576          -4382   \n432885               Married  House / apartment       -9970           -119   \n421225               Married  House / apartment      -10630           -454   \n424339               Married  House / apartment      -15859          -3679   \n\n        FLAG_MOBIL  FLAG_WORK_PHONE  FLAG_PHONE  FLAG_EMAIL OCCUPATION_TYPE  \\\n0                1                1           0           0             NaN   \n1                1                1           0           0             NaN   \n2                1                0           0           0  Security staff   \n3                1                0           1           1     Sales staff   \n4                1                0           1           1     Sales staff   \n...            ...              ...         ...         ...             ...   \n423317           1                0           0           0      Core staff   \n426434           1                0           0           0  Medicine staff   \n432885           1                0           0           0             NaN   \n421225           1                0           0           0             NaN   \n424339           1                0           0           0      Core staff   \n\n        CNT_FAM_MEMBERS  \n0                   2.0  \n1                   2.0  \n2                   2.0  \n3                   1.0  \n4                   1.0  \n...                 ...  \n423317              1.0  \n426434              4.0  \n432885              2.0  \n421225              3.0  \n424339              3.0  \n\n[438557 rows x 18 columns]",
      "text/html": "<div>\n<style scoped>\n    .dataframe tbody tr th:only-of-type {\n        vertical-align: middle;\n    }\n\n    .dataframe tbody tr th {\n        vertical-align: top;\n    }\n\n    .dataframe thead th {\n        text-align: right;\n    }\n</style>\n<table border=\"1\" class=\"dataframe\">\n  <thead>\n    <tr style=\"text-align: right;\">\n      <th></th>\n      <th>ID</th>\n      <th>CODE_GENDER</th>\n      <th>FLAG_OWN_CAR</th>\n      <th>FLAG_OWN_REALTY</th>\n      <th>CNT_CHILDREN</th>\n      <th>AMT_INCOME_TOTAL</th>\n      <th>NAME_INCOME_TYPE</th>\n      <th>NAME_EDUCATION_TYPE</th>\n      <th>NAME_FAMILY_STATUS</th>\n      <th>NAME_HOUSING_TYPE</th>\n      <th>DAYS_BIRTH</th>\n      <th>DAYS_EMPLOYED</th>\n      <th>FLAG_MOBIL</th>\n      <th>FLAG_WORK_PHONE</th>\n      <th>FLAG_PHONE</th>\n      <th>FLAG_EMAIL</th>\n      <th>OCCUPATION_TYPE</th>\n      <th>CNT_FAM_MEMBERS</th>\n    </tr>\n  </thead>\n  <tbody>\n    <tr>\n      <th>0</th>\n      <td>5008804</td>\n      <td>M</td>\n      <td>Y</td>\n      <td>Y</td>\n      <td>0</td>\n      <td>427500.0</td>\n      <td>Working</td>\n      <td>Higher education</td>\n      <td>Civil marriage</td>\n      <td>Rented apartment</td>\n      <td>-12005</td>\n      <td>-4542</td>\n      <td>1</td>\n      <td>1</td>\n      <td>0</td>\n      <td>0</td>\n      <td>NaN</td>\n      <td>2.0</td>\n    </tr>\n    <tr>\n      <th>1</th>\n      <td>5008805</td>\n      <td>M</td>\n      <td>Y</td>\n      <td>Y</td>\n      <td>0</td>\n      <td>427500.0</td>\n      <td>Working</td>\n      <td>Higher education</td>\n      <td>Civil marriage</td>\n      <td>Rented apartment</td>\n      <td>-12005</td>\n      <td>-4542</td>\n      <td>1</td>\n      <td>1</td>\n      <td>0</td>\n      <td>0</td>\n      <td>NaN</td>\n      <td>2.0</td>\n    </tr>\n    <tr>\n      <th>2</th>\n      <td>5008806</td>\n      <td>M</td>\n      <td>Y</td>\n      <td>Y</td>\n      <td>0</td>\n      <td>112500.0</td>\n      <td>Working</td>\n      <td>Secondary / secondary special</td>\n      <td>Married</td>\n      <td>House / apartment</td>\n      <td>-21474</td>\n      <td>-1134</td>\n      <td>1</td>\n      <td>0</td>\n      <td>0</td>\n      <td>0</td>\n      <td>Security staff</td>\n      <td>2.0</td>\n    </tr>\n    <tr>\n      <th>3</th>\n      <td>5008808</td>\n      <td>F</td>\n      <td>N</td>\n      <td>Y</td>\n      <td>0</td>\n      <td>270000.0</td>\n      <td>Commercial associate</td>\n      <td>Secondary / secondary special</td>\n      <td>Single / not married</td>\n      <td>House / apartment</td>\n      <td>-19110</td>\n      <td>-3051</td>\n      <td>1</td>\n      <td>0</td>\n      <td>1</td>\n      <td>1</td>\n      <td>Sales staff</td>\n      <td>1.0</td>\n    </tr>\n    <tr>\n      <th>4</th>\n      <td>5008809</td>\n      <td>F</td>\n      <td>N</td>\n      <td>Y</td>\n      <td>0</td>\n      <td>270000.0</td>\n      <td>Commercial associate</td>\n      <td>Secondary / secondary special</td>\n      <td>Single / not married</td>\n      <td>House / apartment</td>\n      <td>-19110</td>\n      <td>-3051</td>\n      <td>1</td>\n      <td>0</td>\n      <td>1</td>\n      <td>1</td>\n      <td>Sales staff</td>\n      <td>1.0</td>\n    </tr>\n    <tr>\n      <th>...</th>\n      <td>...</td>\n      <td>...</td>\n      <td>...</td>\n      <td>...</td>\n      <td>...</td>\n      <td>...</td>\n      <td>...</td>\n      <td>...</td>\n      <td>...</td>\n      <td>...</td>\n      <td>...</td>\n      <td>...</td>\n      <td>...</td>\n      <td>...</td>\n      <td>...</td>\n      <td>...</td>\n      <td>...</td>\n      <td>...</td>\n    </tr>\n    <tr>\n      <th>423317</th>\n      <td>7999660</td>\n      <td>F</td>\n      <td>N</td>\n      <td>N</td>\n      <td>0</td>\n      <td>90000.0</td>\n      <td>State servant</td>\n      <td>Higher education</td>\n      <td>Single / not married</td>\n      <td>House / apartment</td>\n      <td>-13432</td>\n      <td>-5446</td>\n      <td>1</td>\n      <td>0</td>\n      <td>0</td>\n      <td>0</td>\n      <td>Core staff</td>\n      <td>1.0</td>\n    </tr>\n    <tr>\n      <th>426434</th>\n      <td>7999696</td>\n      <td>F</td>\n      <td>N</td>\n      <td>Y</td>\n      <td>2</td>\n      <td>135000.0</td>\n      <td>State servant</td>\n      <td>Secondary / secondary special</td>\n      <td>Married</td>\n      <td>House / apartment</td>\n      <td>-12576</td>\n      <td>-4382</td>\n      <td>1</td>\n      <td>0</td>\n      <td>0</td>\n      <td>0</td>\n      <td>Medicine staff</td>\n      <td>4.0</td>\n    </tr>\n    <tr>\n      <th>432885</th>\n      <td>7999738</td>\n      <td>M</td>\n      <td>N</td>\n      <td>Y</td>\n      <td>0</td>\n      <td>180000.0</td>\n      <td>Working</td>\n      <td>Secondary / secondary special</td>\n      <td>Married</td>\n      <td>House / apartment</td>\n      <td>-9970</td>\n      <td>-119</td>\n      <td>1</td>\n      <td>0</td>\n      <td>0</td>\n      <td>0</td>\n      <td>NaN</td>\n      <td>2.0</td>\n    </tr>\n    <tr>\n      <th>421225</th>\n      <td>7999784</td>\n      <td>F</td>\n      <td>Y</td>\n      <td>Y</td>\n      <td>1</td>\n      <td>180000.0</td>\n      <td>Commercial associate</td>\n      <td>Secondary / secondary special</td>\n      <td>Married</td>\n      <td>House / apartment</td>\n      <td>-10630</td>\n      <td>-454</td>\n      <td>1</td>\n      <td>0</td>\n      <td>0</td>\n      <td>0</td>\n      <td>NaN</td>\n      <td>3.0</td>\n    </tr>\n    <tr>\n      <th>424339</th>\n      <td>7999952</td>\n      <td>F</td>\n      <td>N</td>\n      <td>Y</td>\n      <td>1</td>\n      <td>157500.0</td>\n      <td>State servant</td>\n      <td>Higher education</td>\n      <td>Married</td>\n      <td>House / apartment</td>\n      <td>-15859</td>\n      <td>-3679</td>\n      <td>1</td>\n      <td>0</td>\n      <td>0</td>\n      <td>0</td>\n      <td>Core staff</td>\n      <td>3.0</td>\n    </tr>\n  </tbody>\n</table>\n<p>438557 rows × 18 columns</p>\n</div>"
     },
     "metadata": {},
     "execution_count": 5
    }
   ],
   "source": [
    "data.sort_values(by=['ID'])"
   ]
  },
  {
   "cell_type": "code",
   "execution_count": 4,
   "metadata": {
    "tags": []
   },
   "outputs": [
    {
     "output_type": "stream",
     "name": "stdout",
     "text": "(438557, 18)\n(1048575, 3)\n"
    }
   ],
   "source": [
    "print(data.shape)\n",
    "print(record.shape)"
   ]
  },
  {
   "cell_type": "code",
   "execution_count": 6,
   "metadata": {},
   "outputs": [
    {
     "output_type": "execute_result",
     "data": {
      "text/plain": "         CODE_GENDER  FLAG_OWN_CAR  FLAG_OWN_REALTY  CNT_CHILDREN  \\\nID                                                                  \n5008804            1             1                1             1   \n5008805            1             1                1             1   \n5008806            1             1                1             1   \n5008808            1             1                1             1   \n5008809            1             1                1             1   \n...              ...           ...              ...           ...   \n7999660            1             1                1             1   \n7999696            1             1                1             1   \n7999738            1             1                1             1   \n7999784            1             1                1             1   \n7999952            1             1                1             1   \n\n         AMT_INCOME_TOTAL  NAME_INCOME_TYPE  NAME_EDUCATION_TYPE  \\\nID                                                                 \n5008804                 1                 1                    1   \n5008805                 1                 1                    1   \n5008806                 1                 1                    1   \n5008808                 1                 1                    1   \n5008809                 1                 1                    1   \n...                   ...               ...                  ...   \n7999660                 1                 1                    1   \n7999696                 1                 1                    1   \n7999738                 1                 1                    1   \n7999784                 1                 1                    1   \n7999952                 1                 1                    1   \n\n         NAME_FAMILY_STATUS  NAME_HOUSING_TYPE  DAYS_BIRTH  DAYS_EMPLOYED  \\\nID                                                                          \n5008804                   1                  1           1              1   \n5008805                   1                  1           1              1   \n5008806                   1                  1           1              1   \n5008808                   1                  1           1              1   \n5008809                   1                  1           1              1   \n...                     ...                ...         ...            ...   \n7999660                   1                  1           1              1   \n7999696                   1                  1           1              1   \n7999738                   1                  1           1              1   \n7999784                   1                  1           1              1   \n7999952                   1                  1           1              1   \n\n         FLAG_MOBIL  FLAG_WORK_PHONE  FLAG_PHONE  FLAG_EMAIL  OCCUPATION_TYPE  \\\nID                                                                              \n5008804           1                1           1           1                0   \n5008805           1                1           1           1                0   \n5008806           1                1           1           1                1   \n5008808           1                1           1           1                1   \n5008809           1                1           1           1                1   \n...             ...              ...         ...         ...              ...   \n7999660           1                1           1           1                1   \n7999696           1                1           1           1                1   \n7999738           1                1           1           1                0   \n7999784           1                1           1           1                0   \n7999952           1                1           1           1                1   \n\n         CNT_FAM_MEMBERS  \nID                        \n5008804                1  \n5008805                1  \n5008806                1  \n5008808                1  \n5008809                1  \n...                  ...  \n7999660                1  \n7999696                1  \n7999738                1  \n7999784                1  \n7999952                1  \n\n[438510 rows x 17 columns]",
      "text/html": "<div>\n<style scoped>\n    .dataframe tbody tr th:only-of-type {\n        vertical-align: middle;\n    }\n\n    .dataframe tbody tr th {\n        vertical-align: top;\n    }\n\n    .dataframe thead th {\n        text-align: right;\n    }\n</style>\n<table border=\"1\" class=\"dataframe\">\n  <thead>\n    <tr style=\"text-align: right;\">\n      <th></th>\n      <th>CODE_GENDER</th>\n      <th>FLAG_OWN_CAR</th>\n      <th>FLAG_OWN_REALTY</th>\n      <th>CNT_CHILDREN</th>\n      <th>AMT_INCOME_TOTAL</th>\n      <th>NAME_INCOME_TYPE</th>\n      <th>NAME_EDUCATION_TYPE</th>\n      <th>NAME_FAMILY_STATUS</th>\n      <th>NAME_HOUSING_TYPE</th>\n      <th>DAYS_BIRTH</th>\n      <th>DAYS_EMPLOYED</th>\n      <th>FLAG_MOBIL</th>\n      <th>FLAG_WORK_PHONE</th>\n      <th>FLAG_PHONE</th>\n      <th>FLAG_EMAIL</th>\n      <th>OCCUPATION_TYPE</th>\n      <th>CNT_FAM_MEMBERS</th>\n    </tr>\n    <tr>\n      <th>ID</th>\n      <th></th>\n      <th></th>\n      <th></th>\n      <th></th>\n      <th></th>\n      <th></th>\n      <th></th>\n      <th></th>\n      <th></th>\n      <th></th>\n      <th></th>\n      <th></th>\n      <th></th>\n      <th></th>\n      <th></th>\n      <th></th>\n      <th></th>\n    </tr>\n  </thead>\n  <tbody>\n    <tr>\n      <th>5008804</th>\n      <td>1</td>\n      <td>1</td>\n      <td>1</td>\n      <td>1</td>\n      <td>1</td>\n      <td>1</td>\n      <td>1</td>\n      <td>1</td>\n      <td>1</td>\n      <td>1</td>\n      <td>1</td>\n      <td>1</td>\n      <td>1</td>\n      <td>1</td>\n      <td>1</td>\n      <td>0</td>\n      <td>1</td>\n    </tr>\n    <tr>\n      <th>5008805</th>\n      <td>1</td>\n      <td>1</td>\n      <td>1</td>\n      <td>1</td>\n      <td>1</td>\n      <td>1</td>\n      <td>1</td>\n      <td>1</td>\n      <td>1</td>\n      <td>1</td>\n      <td>1</td>\n      <td>1</td>\n      <td>1</td>\n      <td>1</td>\n      <td>1</td>\n      <td>0</td>\n      <td>1</td>\n    </tr>\n    <tr>\n      <th>5008806</th>\n      <td>1</td>\n      <td>1</td>\n      <td>1</td>\n      <td>1</td>\n      <td>1</td>\n      <td>1</td>\n      <td>1</td>\n      <td>1</td>\n      <td>1</td>\n      <td>1</td>\n      <td>1</td>\n      <td>1</td>\n      <td>1</td>\n      <td>1</td>\n      <td>1</td>\n      <td>1</td>\n      <td>1</td>\n    </tr>\n    <tr>\n      <th>5008808</th>\n      <td>1</td>\n      <td>1</td>\n      <td>1</td>\n      <td>1</td>\n      <td>1</td>\n      <td>1</td>\n      <td>1</td>\n      <td>1</td>\n      <td>1</td>\n      <td>1</td>\n      <td>1</td>\n      <td>1</td>\n      <td>1</td>\n      <td>1</td>\n      <td>1</td>\n      <td>1</td>\n      <td>1</td>\n    </tr>\n    <tr>\n      <th>5008809</th>\n      <td>1</td>\n      <td>1</td>\n      <td>1</td>\n      <td>1</td>\n      <td>1</td>\n      <td>1</td>\n      <td>1</td>\n      <td>1</td>\n      <td>1</td>\n      <td>1</td>\n      <td>1</td>\n      <td>1</td>\n      <td>1</td>\n      <td>1</td>\n      <td>1</td>\n      <td>1</td>\n      <td>1</td>\n    </tr>\n    <tr>\n      <th>...</th>\n      <td>...</td>\n      <td>...</td>\n      <td>...</td>\n      <td>...</td>\n      <td>...</td>\n      <td>...</td>\n      <td>...</td>\n      <td>...</td>\n      <td>...</td>\n      <td>...</td>\n      <td>...</td>\n      <td>...</td>\n      <td>...</td>\n      <td>...</td>\n      <td>...</td>\n      <td>...</td>\n      <td>...</td>\n    </tr>\n    <tr>\n      <th>7999660</th>\n      <td>1</td>\n      <td>1</td>\n      <td>1</td>\n      <td>1</td>\n      <td>1</td>\n      <td>1</td>\n      <td>1</td>\n      <td>1</td>\n      <td>1</td>\n      <td>1</td>\n      <td>1</td>\n      <td>1</td>\n      <td>1</td>\n      <td>1</td>\n      <td>1</td>\n      <td>1</td>\n      <td>1</td>\n    </tr>\n    <tr>\n      <th>7999696</th>\n      <td>1</td>\n      <td>1</td>\n      <td>1</td>\n      <td>1</td>\n      <td>1</td>\n      <td>1</td>\n      <td>1</td>\n      <td>1</td>\n      <td>1</td>\n      <td>1</td>\n      <td>1</td>\n      <td>1</td>\n      <td>1</td>\n      <td>1</td>\n      <td>1</td>\n      <td>1</td>\n      <td>1</td>\n    </tr>\n    <tr>\n      <th>7999738</th>\n      <td>1</td>\n      <td>1</td>\n      <td>1</td>\n      <td>1</td>\n      <td>1</td>\n      <td>1</td>\n      <td>1</td>\n      <td>1</td>\n      <td>1</td>\n      <td>1</td>\n      <td>1</td>\n      <td>1</td>\n      <td>1</td>\n      <td>1</td>\n      <td>1</td>\n      <td>0</td>\n      <td>1</td>\n    </tr>\n    <tr>\n      <th>7999784</th>\n      <td>1</td>\n      <td>1</td>\n      <td>1</td>\n      <td>1</td>\n      <td>1</td>\n      <td>1</td>\n      <td>1</td>\n      <td>1</td>\n      <td>1</td>\n      <td>1</td>\n      <td>1</td>\n      <td>1</td>\n      <td>1</td>\n      <td>1</td>\n      <td>1</td>\n      <td>0</td>\n      <td>1</td>\n    </tr>\n    <tr>\n      <th>7999952</th>\n      <td>1</td>\n      <td>1</td>\n      <td>1</td>\n      <td>1</td>\n      <td>1</td>\n      <td>1</td>\n      <td>1</td>\n      <td>1</td>\n      <td>1</td>\n      <td>1</td>\n      <td>1</td>\n      <td>1</td>\n      <td>1</td>\n      <td>1</td>\n      <td>1</td>\n      <td>1</td>\n      <td>1</td>\n    </tr>\n  </tbody>\n</table>\n<p>438510 rows × 17 columns</p>\n</div>"
     },
     "metadata": {},
     "execution_count": 6
    }
   ],
   "source": [
    "data.groupby(['ID']).count()"
   ]
  },
  {
   "cell_type": "code",
   "execution_count": 7,
   "metadata": {},
   "outputs": [
    {
     "output_type": "execute_result",
     "data": {
      "text/plain": "        ID  MONTHS_BALANCE STATUS\n0  5001711               0      X\n1  5001711              -1      0\n2  5001711              -2      0\n3  5001711              -3      0\n4  5001712               0      C",
      "text/html": "<div>\n<style scoped>\n    .dataframe tbody tr th:only-of-type {\n        vertical-align: middle;\n    }\n\n    .dataframe tbody tr th {\n        vertical-align: top;\n    }\n\n    .dataframe thead th {\n        text-align: right;\n    }\n</style>\n<table border=\"1\" class=\"dataframe\">\n  <thead>\n    <tr style=\"text-align: right;\">\n      <th></th>\n      <th>ID</th>\n      <th>MONTHS_BALANCE</th>\n      <th>STATUS</th>\n    </tr>\n  </thead>\n  <tbody>\n    <tr>\n      <th>0</th>\n      <td>5001711</td>\n      <td>0</td>\n      <td>X</td>\n    </tr>\n    <tr>\n      <th>1</th>\n      <td>5001711</td>\n      <td>-1</td>\n      <td>0</td>\n    </tr>\n    <tr>\n      <th>2</th>\n      <td>5001711</td>\n      <td>-2</td>\n      <td>0</td>\n    </tr>\n    <tr>\n      <th>3</th>\n      <td>5001711</td>\n      <td>-3</td>\n      <td>0</td>\n    </tr>\n    <tr>\n      <th>4</th>\n      <td>5001712</td>\n      <td>0</td>\n      <td>C</td>\n    </tr>\n  </tbody>\n</table>\n</div>"
     },
     "metadata": {},
     "execution_count": 7
    }
   ],
   "source": [
    "record.head()"
   ]
  },
  {
   "cell_type": "code",
   "execution_count": 8,
   "metadata": {},
   "outputs": [
    {
     "output_type": "execute_result",
     "data": {
      "text/plain": "         MONTHS_BALANCE\nID                     \n5001711              -3\n5001712             -18\n5001713             -21\n5001714             -14\n5001715             -59\n...                 ...\n5150482             -28\n5150483             -17\n5150484             -12\n5150485              -1\n5150487             -29\n\n[45985 rows x 1 columns]",
      "text/html": "<div>\n<style scoped>\n    .dataframe tbody tr th:only-of-type {\n        vertical-align: middle;\n    }\n\n    .dataframe tbody tr th {\n        vertical-align: top;\n    }\n\n    .dataframe thead th {\n        text-align: right;\n    }\n</style>\n<table border=\"1\" class=\"dataframe\">\n  <thead>\n    <tr style=\"text-align: right;\">\n      <th></th>\n      <th>MONTHS_BALANCE</th>\n    </tr>\n    <tr>\n      <th>ID</th>\n      <th></th>\n    </tr>\n  </thead>\n  <tbody>\n    <tr>\n      <th>5001711</th>\n      <td>-3</td>\n    </tr>\n    <tr>\n      <th>5001712</th>\n      <td>-18</td>\n    </tr>\n    <tr>\n      <th>5001713</th>\n      <td>-21</td>\n    </tr>\n    <tr>\n      <th>5001714</th>\n      <td>-14</td>\n    </tr>\n    <tr>\n      <th>5001715</th>\n      <td>-59</td>\n    </tr>\n    <tr>\n      <th>...</th>\n      <td>...</td>\n    </tr>\n    <tr>\n      <th>5150482</th>\n      <td>-28</td>\n    </tr>\n    <tr>\n      <th>5150483</th>\n      <td>-17</td>\n    </tr>\n    <tr>\n      <th>5150484</th>\n      <td>-12</td>\n    </tr>\n    <tr>\n      <th>5150485</th>\n      <td>-1</td>\n    </tr>\n    <tr>\n      <th>5150487</th>\n      <td>-29</td>\n    </tr>\n  </tbody>\n</table>\n<p>45985 rows × 1 columns</p>\n</div>"
     },
     "metadata": {},
     "execution_count": 8
    }
   ],
   "source": [
    "#agrupar los usuarios y obtener el minimo valor del balance del mes\n",
    "begin_month=pd.DataFrame(record.groupby([\"ID\"])[\"MONTHS_BALANCE\"].agg(min))\n",
    "begin_month"
   ]
  },
  {
   "cell_type": "code",
   "execution_count": 9,
   "metadata": {},
   "outputs": [
    {
     "output_type": "execute_result",
     "data": {
      "text/plain": "         begin_month\nID                  \n5001711           -3\n5001712          -18\n5001713          -21\n5001714          -14\n5001715          -59\n...              ...\n5150482          -28\n5150483          -17\n5150484          -12\n5150485           -1\n5150487          -29\n\n[45985 rows x 1 columns]",
      "text/html": "<div>\n<style scoped>\n    .dataframe tbody tr th:only-of-type {\n        vertical-align: middle;\n    }\n\n    .dataframe tbody tr th {\n        vertical-align: top;\n    }\n\n    .dataframe thead th {\n        text-align: right;\n    }\n</style>\n<table border=\"1\" class=\"dataframe\">\n  <thead>\n    <tr style=\"text-align: right;\">\n      <th></th>\n      <th>begin_month</th>\n    </tr>\n    <tr>\n      <th>ID</th>\n      <th></th>\n    </tr>\n  </thead>\n  <tbody>\n    <tr>\n      <th>5001711</th>\n      <td>-3</td>\n    </tr>\n    <tr>\n      <th>5001712</th>\n      <td>-18</td>\n    </tr>\n    <tr>\n      <th>5001713</th>\n      <td>-21</td>\n    </tr>\n    <tr>\n      <th>5001714</th>\n      <td>-14</td>\n    </tr>\n    <tr>\n      <th>5001715</th>\n      <td>-59</td>\n    </tr>\n    <tr>\n      <th>...</th>\n      <td>...</td>\n    </tr>\n    <tr>\n      <th>5150482</th>\n      <td>-28</td>\n    </tr>\n    <tr>\n      <th>5150483</th>\n      <td>-17</td>\n    </tr>\n    <tr>\n      <th>5150484</th>\n      <td>-12</td>\n    </tr>\n    <tr>\n      <th>5150485</th>\n      <td>-1</td>\n    </tr>\n    <tr>\n      <th>5150487</th>\n      <td>-29</td>\n    </tr>\n  </tbody>\n</table>\n<p>45985 rows × 1 columns</p>\n</div>"
     },
     "metadata": {},
     "execution_count": 9
    }
   ],
   "source": [
    "#renombrar la columna \n",
    "begin_month=begin_month.rename(columns={'MONTHS_BALANCE':'begin_month'}) \n",
    "begin_month"
   ]
  },
  {
   "cell_type": "code",
   "execution_count": 10,
   "metadata": {},
   "outputs": [],
   "source": [
    "#fusionar el dataframe principal con los valores de la columna begin_month\n",
    "new_data=pd.merge(data,begin_month,how=\"left\",on=\"ID\")"
   ]
  },
  {
   "cell_type": "code",
   "execution_count": 11,
   "metadata": {},
   "outputs": [
    {
     "output_type": "execute_result",
     "data": {
      "text/plain": "             ID CODE_GENDER FLAG_OWN_CAR FLAG_OWN_REALTY  CNT_CHILDREN  \\\n0       5008804           M            Y               Y             0   \n1       5008805           M            Y               Y             0   \n2       5008806           M            Y               Y             0   \n3       5008808           F            N               Y             0   \n4       5008809           F            N               Y             0   \n...         ...         ...          ...             ...           ...   \n438552  6840104           M            N               Y             0   \n438553  6840222           F            N               N             0   \n438554  6841878           F            N               N             0   \n438555  6842765           F            N               Y             0   \n438556  6842885           F            N               Y             0   \n\n        AMT_INCOME_TOTAL      NAME_INCOME_TYPE            NAME_EDUCATION_TYPE  \\\n0               427500.0               Working               Higher education   \n1               427500.0               Working               Higher education   \n2               112500.0               Working  Secondary / secondary special   \n3               270000.0  Commercial associate  Secondary / secondary special   \n4               270000.0  Commercial associate  Secondary / secondary special   \n...                  ...                   ...                            ...   \n438552          135000.0             Pensioner  Secondary / secondary special   \n438553          103500.0               Working  Secondary / secondary special   \n438554           54000.0  Commercial associate               Higher education   \n438555           72000.0             Pensioner  Secondary / secondary special   \n438556          121500.0               Working  Secondary / secondary special   \n\n          NAME_FAMILY_STATUS  NAME_HOUSING_TYPE  DAYS_BIRTH  DAYS_EMPLOYED  \\\n0             Civil marriage   Rented apartment      -12005          -4542   \n1             Civil marriage   Rented apartment      -12005          -4542   \n2                    Married  House / apartment      -21474          -1134   \n3       Single / not married  House / apartment      -19110          -3051   \n4       Single / not married  House / apartment      -19110          -3051   \n...                      ...                ...         ...            ...   \n438552             Separated  House / apartment      -22717         365243   \n438553  Single / not married  House / apartment      -15939          -3007   \n438554  Single / not married       With parents       -8169           -372   \n438555               Married  House / apartment      -21673         365243   \n438556               Married  House / apartment      -18858          -1201   \n\n        FLAG_MOBIL  FLAG_WORK_PHONE  FLAG_PHONE  FLAG_EMAIL OCCUPATION_TYPE  \\\n0                1                1           0           0             NaN   \n1                1                1           0           0             NaN   \n2                1                0           0           0  Security staff   \n3                1                0           1           1     Sales staff   \n4                1                0           1           1     Sales staff   \n...            ...              ...         ...         ...             ...   \n438552           1                0           0           0             NaN   \n438553           1                0           0           0        Laborers   \n438554           1                1           0           0     Sales staff   \n438555           1                0           0           0             NaN   \n438556           1                0           1           0     Sales staff   \n\n        CNT_FAM_MEMBERS  begin_month  \n0                   2.0        -15.0  \n1                   2.0        -14.0  \n2                   2.0        -29.0  \n3                   1.0         -4.0  \n4                   1.0        -26.0  \n...                 ...          ...  \n438552              1.0          NaN  \n438553              1.0          NaN  \n438554              1.0          NaN  \n438555              2.0          NaN  \n438556              2.0          NaN  \n\n[438557 rows x 19 columns]",
      "text/html": "<div>\n<style scoped>\n    .dataframe tbody tr th:only-of-type {\n        vertical-align: middle;\n    }\n\n    .dataframe tbody tr th {\n        vertical-align: top;\n    }\n\n    .dataframe thead th {\n        text-align: right;\n    }\n</style>\n<table border=\"1\" class=\"dataframe\">\n  <thead>\n    <tr style=\"text-align: right;\">\n      <th></th>\n      <th>ID</th>\n      <th>CODE_GENDER</th>\n      <th>FLAG_OWN_CAR</th>\n      <th>FLAG_OWN_REALTY</th>\n      <th>CNT_CHILDREN</th>\n      <th>AMT_INCOME_TOTAL</th>\n      <th>NAME_INCOME_TYPE</th>\n      <th>NAME_EDUCATION_TYPE</th>\n      <th>NAME_FAMILY_STATUS</th>\n      <th>NAME_HOUSING_TYPE</th>\n      <th>DAYS_BIRTH</th>\n      <th>DAYS_EMPLOYED</th>\n      <th>FLAG_MOBIL</th>\n      <th>FLAG_WORK_PHONE</th>\n      <th>FLAG_PHONE</th>\n      <th>FLAG_EMAIL</th>\n      <th>OCCUPATION_TYPE</th>\n      <th>CNT_FAM_MEMBERS</th>\n      <th>begin_month</th>\n    </tr>\n  </thead>\n  <tbody>\n    <tr>\n      <th>0</th>\n      <td>5008804</td>\n      <td>M</td>\n      <td>Y</td>\n      <td>Y</td>\n      <td>0</td>\n      <td>427500.0</td>\n      <td>Working</td>\n      <td>Higher education</td>\n      <td>Civil marriage</td>\n      <td>Rented apartment</td>\n      <td>-12005</td>\n      <td>-4542</td>\n      <td>1</td>\n      <td>1</td>\n      <td>0</td>\n      <td>0</td>\n      <td>NaN</td>\n      <td>2.0</td>\n      <td>-15.0</td>\n    </tr>\n    <tr>\n      <th>1</th>\n      <td>5008805</td>\n      <td>M</td>\n      <td>Y</td>\n      <td>Y</td>\n      <td>0</td>\n      <td>427500.0</td>\n      <td>Working</td>\n      <td>Higher education</td>\n      <td>Civil marriage</td>\n      <td>Rented apartment</td>\n      <td>-12005</td>\n      <td>-4542</td>\n      <td>1</td>\n      <td>1</td>\n      <td>0</td>\n      <td>0</td>\n      <td>NaN</td>\n      <td>2.0</td>\n      <td>-14.0</td>\n    </tr>\n    <tr>\n      <th>2</th>\n      <td>5008806</td>\n      <td>M</td>\n      <td>Y</td>\n      <td>Y</td>\n      <td>0</td>\n      <td>112500.0</td>\n      <td>Working</td>\n      <td>Secondary / secondary special</td>\n      <td>Married</td>\n      <td>House / apartment</td>\n      <td>-21474</td>\n      <td>-1134</td>\n      <td>1</td>\n      <td>0</td>\n      <td>0</td>\n      <td>0</td>\n      <td>Security staff</td>\n      <td>2.0</td>\n      <td>-29.0</td>\n    </tr>\n    <tr>\n      <th>3</th>\n      <td>5008808</td>\n      <td>F</td>\n      <td>N</td>\n      <td>Y</td>\n      <td>0</td>\n      <td>270000.0</td>\n      <td>Commercial associate</td>\n      <td>Secondary / secondary special</td>\n      <td>Single / not married</td>\n      <td>House / apartment</td>\n      <td>-19110</td>\n      <td>-3051</td>\n      <td>1</td>\n      <td>0</td>\n      <td>1</td>\n      <td>1</td>\n      <td>Sales staff</td>\n      <td>1.0</td>\n      <td>-4.0</td>\n    </tr>\n    <tr>\n      <th>4</th>\n      <td>5008809</td>\n      <td>F</td>\n      <td>N</td>\n      <td>Y</td>\n      <td>0</td>\n      <td>270000.0</td>\n      <td>Commercial associate</td>\n      <td>Secondary / secondary special</td>\n      <td>Single / not married</td>\n      <td>House / apartment</td>\n      <td>-19110</td>\n      <td>-3051</td>\n      <td>1</td>\n      <td>0</td>\n      <td>1</td>\n      <td>1</td>\n      <td>Sales staff</td>\n      <td>1.0</td>\n      <td>-26.0</td>\n    </tr>\n    <tr>\n      <th>...</th>\n      <td>...</td>\n      <td>...</td>\n      <td>...</td>\n      <td>...</td>\n      <td>...</td>\n      <td>...</td>\n      <td>...</td>\n      <td>...</td>\n      <td>...</td>\n      <td>...</td>\n      <td>...</td>\n      <td>...</td>\n      <td>...</td>\n      <td>...</td>\n      <td>...</td>\n      <td>...</td>\n      <td>...</td>\n      <td>...</td>\n      <td>...</td>\n    </tr>\n    <tr>\n      <th>438552</th>\n      <td>6840104</td>\n      <td>M</td>\n      <td>N</td>\n      <td>Y</td>\n      <td>0</td>\n      <td>135000.0</td>\n      <td>Pensioner</td>\n      <td>Secondary / secondary special</td>\n      <td>Separated</td>\n      <td>House / apartment</td>\n      <td>-22717</td>\n      <td>365243</td>\n      <td>1</td>\n      <td>0</td>\n      <td>0</td>\n      <td>0</td>\n      <td>NaN</td>\n      <td>1.0</td>\n      <td>NaN</td>\n    </tr>\n    <tr>\n      <th>438553</th>\n      <td>6840222</td>\n      <td>F</td>\n      <td>N</td>\n      <td>N</td>\n      <td>0</td>\n      <td>103500.0</td>\n      <td>Working</td>\n      <td>Secondary / secondary special</td>\n      <td>Single / not married</td>\n      <td>House / apartment</td>\n      <td>-15939</td>\n      <td>-3007</td>\n      <td>1</td>\n      <td>0</td>\n      <td>0</td>\n      <td>0</td>\n      <td>Laborers</td>\n      <td>1.0</td>\n      <td>NaN</td>\n    </tr>\n    <tr>\n      <th>438554</th>\n      <td>6841878</td>\n      <td>F</td>\n      <td>N</td>\n      <td>N</td>\n      <td>0</td>\n      <td>54000.0</td>\n      <td>Commercial associate</td>\n      <td>Higher education</td>\n      <td>Single / not married</td>\n      <td>With parents</td>\n      <td>-8169</td>\n      <td>-372</td>\n      <td>1</td>\n      <td>1</td>\n      <td>0</td>\n      <td>0</td>\n      <td>Sales staff</td>\n      <td>1.0</td>\n      <td>NaN</td>\n    </tr>\n    <tr>\n      <th>438555</th>\n      <td>6842765</td>\n      <td>F</td>\n      <td>N</td>\n      <td>Y</td>\n      <td>0</td>\n      <td>72000.0</td>\n      <td>Pensioner</td>\n      <td>Secondary / secondary special</td>\n      <td>Married</td>\n      <td>House / apartment</td>\n      <td>-21673</td>\n      <td>365243</td>\n      <td>1</td>\n      <td>0</td>\n      <td>0</td>\n      <td>0</td>\n      <td>NaN</td>\n      <td>2.0</td>\n      <td>NaN</td>\n    </tr>\n    <tr>\n      <th>438556</th>\n      <td>6842885</td>\n      <td>F</td>\n      <td>N</td>\n      <td>Y</td>\n      <td>0</td>\n      <td>121500.0</td>\n      <td>Working</td>\n      <td>Secondary / secondary special</td>\n      <td>Married</td>\n      <td>House / apartment</td>\n      <td>-18858</td>\n      <td>-1201</td>\n      <td>1</td>\n      <td>0</td>\n      <td>1</td>\n      <td>0</td>\n      <td>Sales staff</td>\n      <td>2.0</td>\n      <td>NaN</td>\n    </tr>\n  </tbody>\n</table>\n<p>438557 rows × 19 columns</p>\n</div>"
     },
     "metadata": {},
     "execution_count": 11
    }
   ],
   "source": [
    "new_data"
   ]
  },
  {
   "cell_type": "code",
   "execution_count": 12,
   "metadata": {},
   "outputs": [
    {
     "output_type": "execute_result",
     "data": {
      "text/plain": "(438557, 19)"
     },
     "metadata": {},
     "execution_count": 12
    }
   ],
   "source": [
    "new_data.shape"
   ]
  },
  {
   "cell_type": "markdown",
   "metadata": {},
   "source": [
    "#### Generalmente, los usuarios en riesgo deberían estar en el 3%, por lo que elijo a los usuarios que tienen más de 60 días de retraso como usuarios de riesgo objetivo. Esas muestras están marcadas como '1', de lo contrario, son '0'."
   ]
  },
  {
   "cell_type": "markdown",
   "metadata": {},
   "source": [
    ">ID: \n",
    "                Número de cliente\n",
    ">MONTHS_BALANCE: \n",
    "                 El mes de los datos extraídos es el punto de partida, hacia atrás, \n",
    ">                * 0 es el mes actual, \n",
    ">                * -1 es el mes anterior, y así sucesivamente\n",
    ">ESTADO \n",
    ">                0: 1-29 días de atraso \n",
    ">                1: 30-59 días de atraso \n",
    ">                2: 60-89 días de atraso \n",
    ">                3: 90-119 días de atraso \n",
    ">                4: 120-149 días de atraso \n",
    ">                5: Deudas vencidas o incobrables, cancelaciones por más de 150 días\n",
    ">                C: Pagado ese mes\n",
    ">                X: sin préstamo durante el mes"
   ]
  },
  {
   "cell_type": "code",
   "execution_count": 13,
   "metadata": {},
   "outputs": [],
   "source": [
    "record['dep_value'] = None\n",
    "record['dep_value'][record['STATUS'] =='2']='Yes' \n",
    "record['dep_value'][record['STATUS'] =='3']='Yes' \n",
    "record['dep_value'][record['STATUS'] =='4']='Yes' \n",
    "record['dep_value'][record['STATUS'] =='5']='Yes'"
   ]
  },
  {
   "cell_type": "code",
   "execution_count": 14,
   "metadata": {},
   "outputs": [
    {
     "output_type": "execute_result",
     "data": {
      "text/plain": "        ID  MONTHS_BALANCE STATUS dep_value\n0  5001711               0      X      None\n1  5001711              -1      0      None\n2  5001711              -2      0      None\n3  5001711              -3      0      None\n4  5001712               0      C      None",
      "text/html": "<div>\n<style scoped>\n    .dataframe tbody tr th:only-of-type {\n        vertical-align: middle;\n    }\n\n    .dataframe tbody tr th {\n        vertical-align: top;\n    }\n\n    .dataframe thead th {\n        text-align: right;\n    }\n</style>\n<table border=\"1\" class=\"dataframe\">\n  <thead>\n    <tr style=\"text-align: right;\">\n      <th></th>\n      <th>ID</th>\n      <th>MONTHS_BALANCE</th>\n      <th>STATUS</th>\n      <th>dep_value</th>\n    </tr>\n  </thead>\n  <tbody>\n    <tr>\n      <th>0</th>\n      <td>5001711</td>\n      <td>0</td>\n      <td>X</td>\n      <td>None</td>\n    </tr>\n    <tr>\n      <th>1</th>\n      <td>5001711</td>\n      <td>-1</td>\n      <td>0</td>\n      <td>None</td>\n    </tr>\n    <tr>\n      <th>2</th>\n      <td>5001711</td>\n      <td>-2</td>\n      <td>0</td>\n      <td>None</td>\n    </tr>\n    <tr>\n      <th>3</th>\n      <td>5001711</td>\n      <td>-3</td>\n      <td>0</td>\n      <td>None</td>\n    </tr>\n    <tr>\n      <th>4</th>\n      <td>5001712</td>\n      <td>0</td>\n      <td>C</td>\n      <td>None</td>\n    </tr>\n  </tbody>\n</table>\n</div>"
     },
     "metadata": {},
     "execution_count": 14
    }
   ],
   "source": [
    "record.head()"
   ]
  },
  {
   "cell_type": "code",
   "execution_count": 15,
   "metadata": {},
   "outputs": [
    {
     "output_type": "execute_result",
     "data": {
      "text/plain": "              ID  MONTHS_BALANCE STATUS dep_value\n1048570  5150487             -25      C      None\n1048571  5150487             -26      C      None\n1048572  5150487             -27      C      None\n1048573  5150487             -28      C      None\n1048574  5150487             -29      C      None",
      "text/html": "<div>\n<style scoped>\n    .dataframe tbody tr th:only-of-type {\n        vertical-align: middle;\n    }\n\n    .dataframe tbody tr th {\n        vertical-align: top;\n    }\n\n    .dataframe thead th {\n        text-align: right;\n    }\n</style>\n<table border=\"1\" class=\"dataframe\">\n  <thead>\n    <tr style=\"text-align: right;\">\n      <th></th>\n      <th>ID</th>\n      <th>MONTHS_BALANCE</th>\n      <th>STATUS</th>\n      <th>dep_value</th>\n    </tr>\n  </thead>\n  <tbody>\n    <tr>\n      <th>1048570</th>\n      <td>5150487</td>\n      <td>-25</td>\n      <td>C</td>\n      <td>None</td>\n    </tr>\n    <tr>\n      <th>1048571</th>\n      <td>5150487</td>\n      <td>-26</td>\n      <td>C</td>\n      <td>None</td>\n    </tr>\n    <tr>\n      <th>1048572</th>\n      <td>5150487</td>\n      <td>-27</td>\n      <td>C</td>\n      <td>None</td>\n    </tr>\n    <tr>\n      <th>1048573</th>\n      <td>5150487</td>\n      <td>-28</td>\n      <td>C</td>\n      <td>None</td>\n    </tr>\n    <tr>\n      <th>1048574</th>\n      <td>5150487</td>\n      <td>-29</td>\n      <td>C</td>\n      <td>None</td>\n    </tr>\n  </tbody>\n</table>\n</div>"
     },
     "metadata": {},
     "execution_count": 15
    }
   ],
   "source": [
    "record.tail()"
   ]
  },
  {
   "cell_type": "code",
   "execution_count": 16,
   "metadata": {},
   "outputs": [
    {
     "output_type": "execute_result",
     "data": {
      "text/plain": "         MONTHS_BALANCE  STATUS  dep_value\nID                                        \n5001711               4       4          0\n5001712              19      19          0\n5001713              22      22          0\n5001714              15      15          0\n5001715              60      60          0",
      "text/html": "<div>\n<style scoped>\n    .dataframe tbody tr th:only-of-type {\n        vertical-align: middle;\n    }\n\n    .dataframe tbody tr th {\n        vertical-align: top;\n    }\n\n    .dataframe thead th {\n        text-align: right;\n    }\n</style>\n<table border=\"1\" class=\"dataframe\">\n  <thead>\n    <tr style=\"text-align: right;\">\n      <th></th>\n      <th>MONTHS_BALANCE</th>\n      <th>STATUS</th>\n      <th>dep_value</th>\n    </tr>\n    <tr>\n      <th>ID</th>\n      <th></th>\n      <th></th>\n      <th></th>\n    </tr>\n  </thead>\n  <tbody>\n    <tr>\n      <th>5001711</th>\n      <td>4</td>\n      <td>4</td>\n      <td>0</td>\n    </tr>\n    <tr>\n      <th>5001712</th>\n      <td>19</td>\n      <td>19</td>\n      <td>0</td>\n    </tr>\n    <tr>\n      <th>5001713</th>\n      <td>22</td>\n      <td>22</td>\n      <td>0</td>\n    </tr>\n    <tr>\n      <th>5001714</th>\n      <td>15</td>\n      <td>15</td>\n      <td>0</td>\n    </tr>\n    <tr>\n      <th>5001715</th>\n      <td>60</td>\n      <td>60</td>\n      <td>0</td>\n    </tr>\n  </tbody>\n</table>\n</div>"
     },
     "metadata": {},
     "execution_count": 16
    }
   ],
   "source": [
    "# contar los valores dep_value agrupados por ID \n",
    "cpunt=record.groupby('ID').count()\n",
    "cpunt.head()"
   ]
  },
  {
   "cell_type": "code",
   "execution_count": 17,
   "metadata": {},
   "outputs": [],
   "source": [
    "# Yes -> los clientes que tienen mas de 60 dias de retraso\n",
    "cpunt['dep_value'][cpunt['dep_value'] > 0]='Yes'\n",
    "cpunt['dep_value'][cpunt['dep_value'] == 0]='No'"
   ]
  },
  {
   "cell_type": "code",
   "execution_count": 18,
   "metadata": {},
   "outputs": [
    {
     "output_type": "execute_result",
     "data": {
      "text/plain": "         MONTHS_BALANCE  STATUS dep_value\nID                                       \n5001711               4       4        No\n5001712              19      19        No\n5001713              22      22        No\n5001714              15      15        No\n5001715              60      60        No",
      "text/html": "<div>\n<style scoped>\n    .dataframe tbody tr th:only-of-type {\n        vertical-align: middle;\n    }\n\n    .dataframe tbody tr th {\n        vertical-align: top;\n    }\n\n    .dataframe thead th {\n        text-align: right;\n    }\n</style>\n<table border=\"1\" class=\"dataframe\">\n  <thead>\n    <tr style=\"text-align: right;\">\n      <th></th>\n      <th>MONTHS_BALANCE</th>\n      <th>STATUS</th>\n      <th>dep_value</th>\n    </tr>\n    <tr>\n      <th>ID</th>\n      <th></th>\n      <th></th>\n      <th></th>\n    </tr>\n  </thead>\n  <tbody>\n    <tr>\n      <th>5001711</th>\n      <td>4</td>\n      <td>4</td>\n      <td>No</td>\n    </tr>\n    <tr>\n      <th>5001712</th>\n      <td>19</td>\n      <td>19</td>\n      <td>No</td>\n    </tr>\n    <tr>\n      <th>5001713</th>\n      <td>22</td>\n      <td>22</td>\n      <td>No</td>\n    </tr>\n    <tr>\n      <th>5001714</th>\n      <td>15</td>\n      <td>15</td>\n      <td>No</td>\n    </tr>\n    <tr>\n      <th>5001715</th>\n      <td>60</td>\n      <td>60</td>\n      <td>No</td>\n    </tr>\n  </tbody>\n</table>\n</div>"
     },
     "metadata": {},
     "execution_count": 18
    }
   ],
   "source": [
    "cpunt.head()"
   ]
  },
  {
   "cell_type": "code",
   "execution_count": 19,
   "metadata": {},
   "outputs": [
    {
     "output_type": "execute_result",
     "data": {
      "text/plain": "         MONTHS_BALANCE  STATUS dep_value\nID                                       \n5150482              18      18        No\n5150483              18      18        No\n5150484              13      13        No\n5150485               2       2        No\n5150487              30      30        No",
      "text/html": "<div>\n<style scoped>\n    .dataframe tbody tr th:only-of-type {\n        vertical-align: middle;\n    }\n\n    .dataframe tbody tr th {\n        vertical-align: top;\n    }\n\n    .dataframe thead th {\n        text-align: right;\n    }\n</style>\n<table border=\"1\" class=\"dataframe\">\n  <thead>\n    <tr style=\"text-align: right;\">\n      <th></th>\n      <th>MONTHS_BALANCE</th>\n      <th>STATUS</th>\n      <th>dep_value</th>\n    </tr>\n    <tr>\n      <th>ID</th>\n      <th></th>\n      <th></th>\n      <th></th>\n    </tr>\n  </thead>\n  <tbody>\n    <tr>\n      <th>5150482</th>\n      <td>18</td>\n      <td>18</td>\n      <td>No</td>\n    </tr>\n    <tr>\n      <th>5150483</th>\n      <td>18</td>\n      <td>18</td>\n      <td>No</td>\n    </tr>\n    <tr>\n      <th>5150484</th>\n      <td>13</td>\n      <td>13</td>\n      <td>No</td>\n    </tr>\n    <tr>\n      <th>5150485</th>\n      <td>2</td>\n      <td>2</td>\n      <td>No</td>\n    </tr>\n    <tr>\n      <th>5150487</th>\n      <td>30</td>\n      <td>30</td>\n      <td>No</td>\n    </tr>\n  </tbody>\n</table>\n</div>"
     },
     "metadata": {},
     "execution_count": 19
    }
   ],
   "source": [
    "cpunt.tail()"
   ]
  },
  {
   "cell_type": "code",
   "execution_count": 20,
   "metadata": {},
   "outputs": [],
   "source": [
    "cpunt = cpunt[['dep_value']]"
   ]
  },
  {
   "cell_type": "code",
   "execution_count": 21,
   "metadata": {},
   "outputs": [
    {
     "output_type": "execute_result",
     "data": {
      "text/plain": "        dep_value\nID               \n5001711        No\n5001712        No\n5001713        No\n5001714        No\n5001715        No",
      "text/html": "<div>\n<style scoped>\n    .dataframe tbody tr th:only-of-type {\n        vertical-align: middle;\n    }\n\n    .dataframe tbody tr th {\n        vertical-align: top;\n    }\n\n    .dataframe thead th {\n        text-align: right;\n    }\n</style>\n<table border=\"1\" class=\"dataframe\">\n  <thead>\n    <tr style=\"text-align: right;\">\n      <th></th>\n      <th>dep_value</th>\n    </tr>\n    <tr>\n      <th>ID</th>\n      <th></th>\n    </tr>\n  </thead>\n  <tbody>\n    <tr>\n      <th>5001711</th>\n      <td>No</td>\n    </tr>\n    <tr>\n      <th>5001712</th>\n      <td>No</td>\n    </tr>\n    <tr>\n      <th>5001713</th>\n      <td>No</td>\n    </tr>\n    <tr>\n      <th>5001714</th>\n      <td>No</td>\n    </tr>\n    <tr>\n      <th>5001715</th>\n      <td>No</td>\n    </tr>\n  </tbody>\n</table>\n</div>"
     },
     "metadata": {},
     "execution_count": 21
    }
   ],
   "source": [
    "cpunt.head()"
   ]
  },
  {
   "cell_type": "code",
   "execution_count": 22,
   "metadata": {},
   "outputs": [
    {
     "output_type": "execute_result",
     "data": {
      "text/plain": "(45985, 1)"
     },
     "metadata": {},
     "execution_count": 22
    }
   ],
   "source": [
    "cpunt.shape"
   ]
  },
  {
   "cell_type": "code",
   "execution_count": 23,
   "metadata": {},
   "outputs": [],
   "source": [
    "# fusionar new_data con dep_value (variable a predecir)\n",
    "new_data=pd.merge(new_data,cpunt,how='inner',on='ID')"
   ]
  },
  {
   "cell_type": "code",
   "execution_count": 24,
   "metadata": {},
   "outputs": [
    {
     "output_type": "execute_result",
     "data": {
      "text/plain": "        ID CODE_GENDER FLAG_OWN_CAR FLAG_OWN_REALTY  CNT_CHILDREN  \\\n0  5008804           M            Y               Y             0   \n1  5008805           M            Y               Y             0   \n2  5008806           M            Y               Y             0   \n3  5008808           F            N               Y             0   \n4  5008809           F            N               Y             0   \n\n   AMT_INCOME_TOTAL      NAME_INCOME_TYPE            NAME_EDUCATION_TYPE  \\\n0          427500.0               Working               Higher education   \n1          427500.0               Working               Higher education   \n2          112500.0               Working  Secondary / secondary special   \n3          270000.0  Commercial associate  Secondary / secondary special   \n4          270000.0  Commercial associate  Secondary / secondary special   \n\n     NAME_FAMILY_STATUS  NAME_HOUSING_TYPE  DAYS_BIRTH  DAYS_EMPLOYED  \\\n0        Civil marriage   Rented apartment      -12005          -4542   \n1        Civil marriage   Rented apartment      -12005          -4542   \n2               Married  House / apartment      -21474          -1134   \n3  Single / not married  House / apartment      -19110          -3051   \n4  Single / not married  House / apartment      -19110          -3051   \n\n   FLAG_MOBIL  FLAG_WORK_PHONE  FLAG_PHONE  FLAG_EMAIL OCCUPATION_TYPE  \\\n0           1                1           0           0             NaN   \n1           1                1           0           0             NaN   \n2           1                0           0           0  Security staff   \n3           1                0           1           1     Sales staff   \n4           1                0           1           1     Sales staff   \n\n   CNT_FAM_MEMBERS  begin_month dep_value  \n0              2.0        -15.0        No  \n1              2.0        -14.0        No  \n2              2.0        -29.0        No  \n3              1.0         -4.0        No  \n4              1.0        -26.0        No  ",
      "text/html": "<div>\n<style scoped>\n    .dataframe tbody tr th:only-of-type {\n        vertical-align: middle;\n    }\n\n    .dataframe tbody tr th {\n        vertical-align: top;\n    }\n\n    .dataframe thead th {\n        text-align: right;\n    }\n</style>\n<table border=\"1\" class=\"dataframe\">\n  <thead>\n    <tr style=\"text-align: right;\">\n      <th></th>\n      <th>ID</th>\n      <th>CODE_GENDER</th>\n      <th>FLAG_OWN_CAR</th>\n      <th>FLAG_OWN_REALTY</th>\n      <th>CNT_CHILDREN</th>\n      <th>AMT_INCOME_TOTAL</th>\n      <th>NAME_INCOME_TYPE</th>\n      <th>NAME_EDUCATION_TYPE</th>\n      <th>NAME_FAMILY_STATUS</th>\n      <th>NAME_HOUSING_TYPE</th>\n      <th>DAYS_BIRTH</th>\n      <th>DAYS_EMPLOYED</th>\n      <th>FLAG_MOBIL</th>\n      <th>FLAG_WORK_PHONE</th>\n      <th>FLAG_PHONE</th>\n      <th>FLAG_EMAIL</th>\n      <th>OCCUPATION_TYPE</th>\n      <th>CNT_FAM_MEMBERS</th>\n      <th>begin_month</th>\n      <th>dep_value</th>\n    </tr>\n  </thead>\n  <tbody>\n    <tr>\n      <th>0</th>\n      <td>5008804</td>\n      <td>M</td>\n      <td>Y</td>\n      <td>Y</td>\n      <td>0</td>\n      <td>427500.0</td>\n      <td>Working</td>\n      <td>Higher education</td>\n      <td>Civil marriage</td>\n      <td>Rented apartment</td>\n      <td>-12005</td>\n      <td>-4542</td>\n      <td>1</td>\n      <td>1</td>\n      <td>0</td>\n      <td>0</td>\n      <td>NaN</td>\n      <td>2.0</td>\n      <td>-15.0</td>\n      <td>No</td>\n    </tr>\n    <tr>\n      <th>1</th>\n      <td>5008805</td>\n      <td>M</td>\n      <td>Y</td>\n      <td>Y</td>\n      <td>0</td>\n      <td>427500.0</td>\n      <td>Working</td>\n      <td>Higher education</td>\n      <td>Civil marriage</td>\n      <td>Rented apartment</td>\n      <td>-12005</td>\n      <td>-4542</td>\n      <td>1</td>\n      <td>1</td>\n      <td>0</td>\n      <td>0</td>\n      <td>NaN</td>\n      <td>2.0</td>\n      <td>-14.0</td>\n      <td>No</td>\n    </tr>\n    <tr>\n      <th>2</th>\n      <td>5008806</td>\n      <td>M</td>\n      <td>Y</td>\n      <td>Y</td>\n      <td>0</td>\n      <td>112500.0</td>\n      <td>Working</td>\n      <td>Secondary / secondary special</td>\n      <td>Married</td>\n      <td>House / apartment</td>\n      <td>-21474</td>\n      <td>-1134</td>\n      <td>1</td>\n      <td>0</td>\n      <td>0</td>\n      <td>0</td>\n      <td>Security staff</td>\n      <td>2.0</td>\n      <td>-29.0</td>\n      <td>No</td>\n    </tr>\n    <tr>\n      <th>3</th>\n      <td>5008808</td>\n      <td>F</td>\n      <td>N</td>\n      <td>Y</td>\n      <td>0</td>\n      <td>270000.0</td>\n      <td>Commercial associate</td>\n      <td>Secondary / secondary special</td>\n      <td>Single / not married</td>\n      <td>House / apartment</td>\n      <td>-19110</td>\n      <td>-3051</td>\n      <td>1</td>\n      <td>0</td>\n      <td>1</td>\n      <td>1</td>\n      <td>Sales staff</td>\n      <td>1.0</td>\n      <td>-4.0</td>\n      <td>No</td>\n    </tr>\n    <tr>\n      <th>4</th>\n      <td>5008809</td>\n      <td>F</td>\n      <td>N</td>\n      <td>Y</td>\n      <td>0</td>\n      <td>270000.0</td>\n      <td>Commercial associate</td>\n      <td>Secondary / secondary special</td>\n      <td>Single / not married</td>\n      <td>House / apartment</td>\n      <td>-19110</td>\n      <td>-3051</td>\n      <td>1</td>\n      <td>0</td>\n      <td>1</td>\n      <td>1</td>\n      <td>Sales staff</td>\n      <td>1.0</td>\n      <td>-26.0</td>\n      <td>No</td>\n    </tr>\n  </tbody>\n</table>\n</div>"
     },
     "metadata": {},
     "execution_count": 24
    }
   ],
   "source": [
    "new_data.head()"
   ]
  },
  {
   "cell_type": "code",
   "execution_count": 25,
   "metadata": {},
   "outputs": [
    {
     "output_type": "execute_result",
     "data": {
      "text/plain": "(36457, 20)"
     },
     "metadata": {},
     "execution_count": 25
    }
   ],
   "source": [
    "new_data.shape"
   ]
  },
  {
   "cell_type": "code",
   "execution_count": 26,
   "metadata": {},
   "outputs": [],
   "source": [
    "new_data['target']=new_data['dep_value']\n",
    "new_data.loc[new_data['target']=='Yes','target']=1\n",
    "new_data.loc[new_data['target']=='No','target']=0"
   ]
  },
  {
   "cell_type": "code",
   "execution_count": 27,
   "metadata": {},
   "outputs": [
    {
     "output_type": "execute_result",
     "data": {
      "text/plain": "            ID CODE_GENDER FLAG_OWN_CAR FLAG_OWN_REALTY  CNT_CHILDREN  \\\n0      5008804           M            Y               Y             0   \n1      5008805           M            Y               Y             0   \n2      5008806           M            Y               Y             0   \n3      5008808           F            N               Y             0   \n4      5008809           F            N               Y             0   \n...        ...         ...          ...             ...           ...   \n36452  5149828           M            Y               Y             0   \n36453  5149834           F            N               Y             0   \n36454  5149838           F            N               Y             0   \n36455  5150049           F            N               Y             0   \n36456  5150337           M            N               Y             0   \n\n       AMT_INCOME_TOTAL      NAME_INCOME_TYPE            NAME_EDUCATION_TYPE  \\\n0              427500.0               Working               Higher education   \n1              427500.0               Working               Higher education   \n2              112500.0               Working  Secondary / secondary special   \n3              270000.0  Commercial associate  Secondary / secondary special   \n4              270000.0  Commercial associate  Secondary / secondary special   \n...                 ...                   ...                            ...   \n36452          315000.0               Working  Secondary / secondary special   \n36453          157500.0  Commercial associate               Higher education   \n36454          157500.0             Pensioner               Higher education   \n36455          283500.0               Working  Secondary / secondary special   \n36456          112500.0               Working  Secondary / secondary special   \n\n         NAME_FAMILY_STATUS  NAME_HOUSING_TYPE  ...  DAYS_EMPLOYED  \\\n0            Civil marriage   Rented apartment  ...          -4542   \n1            Civil marriage   Rented apartment  ...          -4542   \n2                   Married  House / apartment  ...          -1134   \n3      Single / not married  House / apartment  ...          -3051   \n4      Single / not married  House / apartment  ...          -3051   \n...                     ...                ...  ...            ...   \n36452               Married  House / apartment  ...          -2420   \n36453               Married  House / apartment  ...          -1325   \n36454               Married  House / apartment  ...          -1325   \n36455               Married  House / apartment  ...           -655   \n36456  Single / not married   Rented apartment  ...          -1193   \n\n       FLAG_MOBIL  FLAG_WORK_PHONE  FLAG_PHONE  FLAG_EMAIL  OCCUPATION_TYPE  \\\n0               1                1           0           0              NaN   \n1               1                1           0           0              NaN   \n2               1                0           0           0   Security staff   \n3               1                0           1           1      Sales staff   \n4               1                0           1           1      Sales staff   \n...           ...              ...         ...         ...              ...   \n36452           1                0           0           0         Managers   \n36453           1                0           1           1   Medicine staff   \n36454           1                0           1           1   Medicine staff   \n36455           1                0           0           0      Sales staff   \n36456           1                0           0           0         Laborers   \n\n      CNT_FAM_MEMBERS  begin_month  dep_value target  \n0                 2.0        -15.0         No      0  \n1                 2.0        -14.0         No      0  \n2                 2.0        -29.0         No      0  \n3                 1.0         -4.0         No      0  \n4                 1.0        -26.0         No      0  \n...               ...          ...        ...    ...  \n36452             2.0        -11.0        Yes      1  \n36453             2.0        -23.0        Yes      1  \n36454             2.0        -32.0        Yes      1  \n36455             2.0         -9.0        Yes      1  \n36456             1.0        -13.0        Yes      1  \n\n[36457 rows x 21 columns]",
      "text/html": "<div>\n<style scoped>\n    .dataframe tbody tr th:only-of-type {\n        vertical-align: middle;\n    }\n\n    .dataframe tbody tr th {\n        vertical-align: top;\n    }\n\n    .dataframe thead th {\n        text-align: right;\n    }\n</style>\n<table border=\"1\" class=\"dataframe\">\n  <thead>\n    <tr style=\"text-align: right;\">\n      <th></th>\n      <th>ID</th>\n      <th>CODE_GENDER</th>\n      <th>FLAG_OWN_CAR</th>\n      <th>FLAG_OWN_REALTY</th>\n      <th>CNT_CHILDREN</th>\n      <th>AMT_INCOME_TOTAL</th>\n      <th>NAME_INCOME_TYPE</th>\n      <th>NAME_EDUCATION_TYPE</th>\n      <th>NAME_FAMILY_STATUS</th>\n      <th>NAME_HOUSING_TYPE</th>\n      <th>...</th>\n      <th>DAYS_EMPLOYED</th>\n      <th>FLAG_MOBIL</th>\n      <th>FLAG_WORK_PHONE</th>\n      <th>FLAG_PHONE</th>\n      <th>FLAG_EMAIL</th>\n      <th>OCCUPATION_TYPE</th>\n      <th>CNT_FAM_MEMBERS</th>\n      <th>begin_month</th>\n      <th>dep_value</th>\n      <th>target</th>\n    </tr>\n  </thead>\n  <tbody>\n    <tr>\n      <th>0</th>\n      <td>5008804</td>\n      <td>M</td>\n      <td>Y</td>\n      <td>Y</td>\n      <td>0</td>\n      <td>427500.0</td>\n      <td>Working</td>\n      <td>Higher education</td>\n      <td>Civil marriage</td>\n      <td>Rented apartment</td>\n      <td>...</td>\n      <td>-4542</td>\n      <td>1</td>\n      <td>1</td>\n      <td>0</td>\n      <td>0</td>\n      <td>NaN</td>\n      <td>2.0</td>\n      <td>-15.0</td>\n      <td>No</td>\n      <td>0</td>\n    </tr>\n    <tr>\n      <th>1</th>\n      <td>5008805</td>\n      <td>M</td>\n      <td>Y</td>\n      <td>Y</td>\n      <td>0</td>\n      <td>427500.0</td>\n      <td>Working</td>\n      <td>Higher education</td>\n      <td>Civil marriage</td>\n      <td>Rented apartment</td>\n      <td>...</td>\n      <td>-4542</td>\n      <td>1</td>\n      <td>1</td>\n      <td>0</td>\n      <td>0</td>\n      <td>NaN</td>\n      <td>2.0</td>\n      <td>-14.0</td>\n      <td>No</td>\n      <td>0</td>\n    </tr>\n    <tr>\n      <th>2</th>\n      <td>5008806</td>\n      <td>M</td>\n      <td>Y</td>\n      <td>Y</td>\n      <td>0</td>\n      <td>112500.0</td>\n      <td>Working</td>\n      <td>Secondary / secondary special</td>\n      <td>Married</td>\n      <td>House / apartment</td>\n      <td>...</td>\n      <td>-1134</td>\n      <td>1</td>\n      <td>0</td>\n      <td>0</td>\n      <td>0</td>\n      <td>Security staff</td>\n      <td>2.0</td>\n      <td>-29.0</td>\n      <td>No</td>\n      <td>0</td>\n    </tr>\n    <tr>\n      <th>3</th>\n      <td>5008808</td>\n      <td>F</td>\n      <td>N</td>\n      <td>Y</td>\n      <td>0</td>\n      <td>270000.0</td>\n      <td>Commercial associate</td>\n      <td>Secondary / secondary special</td>\n      <td>Single / not married</td>\n      <td>House / apartment</td>\n      <td>...</td>\n      <td>-3051</td>\n      <td>1</td>\n      <td>0</td>\n      <td>1</td>\n      <td>1</td>\n      <td>Sales staff</td>\n      <td>1.0</td>\n      <td>-4.0</td>\n      <td>No</td>\n      <td>0</td>\n    </tr>\n    <tr>\n      <th>4</th>\n      <td>5008809</td>\n      <td>F</td>\n      <td>N</td>\n      <td>Y</td>\n      <td>0</td>\n      <td>270000.0</td>\n      <td>Commercial associate</td>\n      <td>Secondary / secondary special</td>\n      <td>Single / not married</td>\n      <td>House / apartment</td>\n      <td>...</td>\n      <td>-3051</td>\n      <td>1</td>\n      <td>0</td>\n      <td>1</td>\n      <td>1</td>\n      <td>Sales staff</td>\n      <td>1.0</td>\n      <td>-26.0</td>\n      <td>No</td>\n      <td>0</td>\n    </tr>\n    <tr>\n      <th>...</th>\n      <td>...</td>\n      <td>...</td>\n      <td>...</td>\n      <td>...</td>\n      <td>...</td>\n      <td>...</td>\n      <td>...</td>\n      <td>...</td>\n      <td>...</td>\n      <td>...</td>\n      <td>...</td>\n      <td>...</td>\n      <td>...</td>\n      <td>...</td>\n      <td>...</td>\n      <td>...</td>\n      <td>...</td>\n      <td>...</td>\n      <td>...</td>\n      <td>...</td>\n      <td>...</td>\n    </tr>\n    <tr>\n      <th>36452</th>\n      <td>5149828</td>\n      <td>M</td>\n      <td>Y</td>\n      <td>Y</td>\n      <td>0</td>\n      <td>315000.0</td>\n      <td>Working</td>\n      <td>Secondary / secondary special</td>\n      <td>Married</td>\n      <td>House / apartment</td>\n      <td>...</td>\n      <td>-2420</td>\n      <td>1</td>\n      <td>0</td>\n      <td>0</td>\n      <td>0</td>\n      <td>Managers</td>\n      <td>2.0</td>\n      <td>-11.0</td>\n      <td>Yes</td>\n      <td>1</td>\n    </tr>\n    <tr>\n      <th>36453</th>\n      <td>5149834</td>\n      <td>F</td>\n      <td>N</td>\n      <td>Y</td>\n      <td>0</td>\n      <td>157500.0</td>\n      <td>Commercial associate</td>\n      <td>Higher education</td>\n      <td>Married</td>\n      <td>House / apartment</td>\n      <td>...</td>\n      <td>-1325</td>\n      <td>1</td>\n      <td>0</td>\n      <td>1</td>\n      <td>1</td>\n      <td>Medicine staff</td>\n      <td>2.0</td>\n      <td>-23.0</td>\n      <td>Yes</td>\n      <td>1</td>\n    </tr>\n    <tr>\n      <th>36454</th>\n      <td>5149838</td>\n      <td>F</td>\n      <td>N</td>\n      <td>Y</td>\n      <td>0</td>\n      <td>157500.0</td>\n      <td>Pensioner</td>\n      <td>Higher education</td>\n      <td>Married</td>\n      <td>House / apartment</td>\n      <td>...</td>\n      <td>-1325</td>\n      <td>1</td>\n      <td>0</td>\n      <td>1</td>\n      <td>1</td>\n      <td>Medicine staff</td>\n      <td>2.0</td>\n      <td>-32.0</td>\n      <td>Yes</td>\n      <td>1</td>\n    </tr>\n    <tr>\n      <th>36455</th>\n      <td>5150049</td>\n      <td>F</td>\n      <td>N</td>\n      <td>Y</td>\n      <td>0</td>\n      <td>283500.0</td>\n      <td>Working</td>\n      <td>Secondary / secondary special</td>\n      <td>Married</td>\n      <td>House / apartment</td>\n      <td>...</td>\n      <td>-655</td>\n      <td>1</td>\n      <td>0</td>\n      <td>0</td>\n      <td>0</td>\n      <td>Sales staff</td>\n      <td>2.0</td>\n      <td>-9.0</td>\n      <td>Yes</td>\n      <td>1</td>\n    </tr>\n    <tr>\n      <th>36456</th>\n      <td>5150337</td>\n      <td>M</td>\n      <td>N</td>\n      <td>Y</td>\n      <td>0</td>\n      <td>112500.0</td>\n      <td>Working</td>\n      <td>Secondary / secondary special</td>\n      <td>Single / not married</td>\n      <td>Rented apartment</td>\n      <td>...</td>\n      <td>-1193</td>\n      <td>1</td>\n      <td>0</td>\n      <td>0</td>\n      <td>0</td>\n      <td>Laborers</td>\n      <td>1.0</td>\n      <td>-13.0</td>\n      <td>Yes</td>\n      <td>1</td>\n    </tr>\n  </tbody>\n</table>\n<p>36457 rows × 21 columns</p>\n</div>"
     },
     "metadata": {},
     "execution_count": 27
    }
   ],
   "source": [
    "new_data"
   ]
  },
  {
   "cell_type": "code",
   "execution_count": 28,
   "metadata": {
    "tags": []
   },
   "outputs": [
    {
     "output_type": "stream",
     "name": "stdout",
     "text": "No     45318\nYes      667\nName: dep_value, dtype: int64\n"
    },
    {
     "output_type": "execute_result",
     "data": {
      "text/plain": "No     0.985495\nYes    0.014505\nName: dep_value, dtype: float64"
     },
     "metadata": {},
     "execution_count": 28
    }
   ],
   "source": [
    "print(cpunt['dep_value'].value_counts())\n",
    "cpunt['dep_value'].value_counts(normalize=True)"
   ]
  },
  {
   "cell_type": "markdown",
   "metadata": {},
   "source": [
    "#### Features"
   ]
  },
  {
   "cell_type": "code",
   "execution_count": 29,
   "metadata": {},
   "outputs": [],
   "source": [
    "#renombrar columnas\n",
    "new_data.rename(columns={'CODE_GENDER':'Gender','FLAG_OWN_CAR':'Car','FLAG_OWN_REALTY':'Reality',\n",
    "                         'CNT_CHILDREN':'ChldNo','AMT_INCOME_TOTAL':'inc',\n",
    "                         'NAME_EDUCATION_TYPE':'edutp','NAME_FAMILY_STATUS':'famtp',\n",
    "                        'NAME_HOUSING_TYPE':'houtp','FLAG_EMAIL':'email',\n",
    "                         'NAME_INCOME_TYPE':'inctp','FLAG_WORK_PHONE':'wkphone',\n",
    "                         'FLAG_PHONE':'phone','CNT_FAM_MEMBERS':'famsize',\n",
    "                        'OCCUPATION_TYPE':'occyp'\n",
    "                        },inplace=True)"
   ]
  },
  {
   "cell_type": "code",
   "execution_count": 32,
   "metadata": {
    "scrolled": true
   },
   "outputs": [
    {
     "output_type": "execute_result",
     "data": {
      "text/plain": "        ID Gender Car Reality  ChldNo       inc                 inctp  \\\n0  5008804      M   Y       Y       0  427500.0               Working   \n1  5008805      M   Y       Y       0  427500.0               Working   \n2  5008806      M   Y       Y       0  112500.0               Working   \n3  5008808      F   N       Y       0  270000.0  Commercial associate   \n4  5008809      F   N       Y       0  270000.0  Commercial associate   \n\n                           edutp                 famtp              houtp  \\\n0               Higher education        Civil marriage   Rented apartment   \n1               Higher education        Civil marriage   Rented apartment   \n2  Secondary / secondary special               Married  House / apartment   \n3  Secondary / secondary special  Single / not married  House / apartment   \n4  Secondary / secondary special  Single / not married  House / apartment   \n\n   ...  DAYS_EMPLOYED  FLAG_MOBIL  wkphone  phone  email           occyp  \\\n0  ...          -4542           1        1      0      0             NaN   \n1  ...          -4542           1        1      0      0             NaN   \n2  ...          -1134           1        0      0      0  Security staff   \n3  ...          -3051           1        0      1      1     Sales staff   \n4  ...          -3051           1        0      1      1     Sales staff   \n\n  famsize  begin_month  dep_value target  \n0     2.0        -15.0         No      0  \n1     2.0        -14.0         No      0  \n2     2.0        -29.0         No      0  \n3     1.0         -4.0         No      0  \n4     1.0        -26.0         No      0  \n\n[5 rows x 21 columns]",
      "text/html": "<div>\n<style scoped>\n    .dataframe tbody tr th:only-of-type {\n        vertical-align: middle;\n    }\n\n    .dataframe tbody tr th {\n        vertical-align: top;\n    }\n\n    .dataframe thead th {\n        text-align: right;\n    }\n</style>\n<table border=\"1\" class=\"dataframe\">\n  <thead>\n    <tr style=\"text-align: right;\">\n      <th></th>\n      <th>ID</th>\n      <th>Gender</th>\n      <th>Car</th>\n      <th>Reality</th>\n      <th>ChldNo</th>\n      <th>inc</th>\n      <th>inctp</th>\n      <th>edutp</th>\n      <th>famtp</th>\n      <th>houtp</th>\n      <th>...</th>\n      <th>DAYS_EMPLOYED</th>\n      <th>FLAG_MOBIL</th>\n      <th>wkphone</th>\n      <th>phone</th>\n      <th>email</th>\n      <th>occyp</th>\n      <th>famsize</th>\n      <th>begin_month</th>\n      <th>dep_value</th>\n      <th>target</th>\n    </tr>\n  </thead>\n  <tbody>\n    <tr>\n      <th>0</th>\n      <td>5008804</td>\n      <td>M</td>\n      <td>Y</td>\n      <td>Y</td>\n      <td>0</td>\n      <td>427500.0</td>\n      <td>Working</td>\n      <td>Higher education</td>\n      <td>Civil marriage</td>\n      <td>Rented apartment</td>\n      <td>...</td>\n      <td>-4542</td>\n      <td>1</td>\n      <td>1</td>\n      <td>0</td>\n      <td>0</td>\n      <td>NaN</td>\n      <td>2.0</td>\n      <td>-15.0</td>\n      <td>No</td>\n      <td>0</td>\n    </tr>\n    <tr>\n      <th>1</th>\n      <td>5008805</td>\n      <td>M</td>\n      <td>Y</td>\n      <td>Y</td>\n      <td>0</td>\n      <td>427500.0</td>\n      <td>Working</td>\n      <td>Higher education</td>\n      <td>Civil marriage</td>\n      <td>Rented apartment</td>\n      <td>...</td>\n      <td>-4542</td>\n      <td>1</td>\n      <td>1</td>\n      <td>0</td>\n      <td>0</td>\n      <td>NaN</td>\n      <td>2.0</td>\n      <td>-14.0</td>\n      <td>No</td>\n      <td>0</td>\n    </tr>\n    <tr>\n      <th>2</th>\n      <td>5008806</td>\n      <td>M</td>\n      <td>Y</td>\n      <td>Y</td>\n      <td>0</td>\n      <td>112500.0</td>\n      <td>Working</td>\n      <td>Secondary / secondary special</td>\n      <td>Married</td>\n      <td>House / apartment</td>\n      <td>...</td>\n      <td>-1134</td>\n      <td>1</td>\n      <td>0</td>\n      <td>0</td>\n      <td>0</td>\n      <td>Security staff</td>\n      <td>2.0</td>\n      <td>-29.0</td>\n      <td>No</td>\n      <td>0</td>\n    </tr>\n    <tr>\n      <th>3</th>\n      <td>5008808</td>\n      <td>F</td>\n      <td>N</td>\n      <td>Y</td>\n      <td>0</td>\n      <td>270000.0</td>\n      <td>Commercial associate</td>\n      <td>Secondary / secondary special</td>\n      <td>Single / not married</td>\n      <td>House / apartment</td>\n      <td>...</td>\n      <td>-3051</td>\n      <td>1</td>\n      <td>0</td>\n      <td>1</td>\n      <td>1</td>\n      <td>Sales staff</td>\n      <td>1.0</td>\n      <td>-4.0</td>\n      <td>No</td>\n      <td>0</td>\n    </tr>\n    <tr>\n      <th>4</th>\n      <td>5008809</td>\n      <td>F</td>\n      <td>N</td>\n      <td>Y</td>\n      <td>0</td>\n      <td>270000.0</td>\n      <td>Commercial associate</td>\n      <td>Secondary / secondary special</td>\n      <td>Single / not married</td>\n      <td>House / apartment</td>\n      <td>...</td>\n      <td>-3051</td>\n      <td>1</td>\n      <td>0</td>\n      <td>1</td>\n      <td>1</td>\n      <td>Sales staff</td>\n      <td>1.0</td>\n      <td>-26.0</td>\n      <td>No</td>\n      <td>0</td>\n    </tr>\n  </tbody>\n</table>\n<p>5 rows × 21 columns</p>\n</div>"
     },
     "metadata": {},
     "execution_count": 32
    }
   ],
   "source": [
    "new_data.head()"
   ]
  },
  {
   "cell_type": "markdown",
   "metadata": {},
   "source": [
    "## Analisis de Datos"
   ]
  },
  {
   "cell_type": "code",
   "execution_count": 34,
   "metadata": {},
   "outputs": [
    {
     "output_type": "error",
     "ename": "NameError",
     "evalue": "name &#39;application&#39; is not defined",
     "traceback": [
      "\u001b[0;31m---------------------------------------------------------------------------\u001b[0m",
      "\u001b[0;31mNameError\u001b[0m                                 Traceback (most recent call last)",
      "\u001b[0;32m&lt;ipython-input-34-b115eb163c0b&gt;\u001b[0m in \u001b[0;36m&lt;module&gt;\u001b[0;34m\u001b[0m\n\u001b[1;32m      1\u001b[0m \u001b[0;31m#valores unicos de application\u001b[0m\u001b[0;34m\u001b[0m\u001b[0;34m\u001b[0m\u001b[0;34m\u001b[0m\u001b[0m\n\u001b[0;32m----&gt; 2\u001b[0;31m \u001b[0mlen\u001b[0m\u001b[0;34m(\u001b[0m\u001b[0mset\u001b[0m\u001b[0;34m(\u001b[0m\u001b[0mapplication\u001b[0m\u001b[0;34m[\u001b[0m\u001b[0;34m&#39;ID&#39;\u001b[0m\u001b[0;34m]\u001b[0m\u001b[0;34m)\u001b[0m\u001b[0;34m)\u001b[0m\u001b[0;34m\u001b[0m\u001b[0;34m\u001b[0m\u001b[0m\n\u001b[0m",
      "\u001b[0;31mNameError\u001b[0m: name &#39;application&#39; is not defined"
     ]
    }
   ],
   "source": [
    "#valores unicos de application\n",
    "len(set(application['ID']))"
   ]
  },
  {
   "cell_type": "code",
   "execution_count": 5,
   "metadata": {},
   "outputs": [
    {
     "data": {
      "text/plain": [
       "45985"
      ]
     },
     "execution_count": 5,
     "metadata": {},
     "output_type": "execute_result"
    }
   ],
   "source": [
    "#valores unicos de credit\n",
    "len(set(credit['ID']))"
   ]
  },
  {
   "cell_type": "code",
   "execution_count": 6,
   "metadata": {},
   "outputs": [
    {
     "data": {
      "text/plain": [
       "36457"
      ]
     },
     "execution_count": 6,
     "metadata": {},
     "output_type": "execute_result"
    }
   ],
   "source": [
    "#valores en comun de application y credit\n",
    "len(set(application['ID']).intersection(set(credit['ID'])))"
   ]
  },
  {
   "cell_type": "code",
   "execution_count": null,
   "metadata": {},
   "outputs": [],
   "source": []
  },
  {
   "cell_type": "code",
   "execution_count": null,
   "metadata": {},
   "outputs": [],
   "source": []
  }
 ],
 "metadata": {
  "kernelspec": {
   "name": "Python 3.8.2 64-bit ('predicting_credit_card_approvals': pipenv)",
   "display_name": "Python 3.8.2 64-bit ('predicting_credit_card_approvals': pipenv)",
   "metadata": {
    "interpreter": {
     "hash": "9f7c6ba2982ca6bb4dbe9f3f3cba3e1e4bec782dacf496fc7402d9463b799fc1"
    }
   }
  },
  "language_info": {
   "codemirror_mode": {
    "name": "ipython",
    "version": 3
   },
   "file_extension": ".py",
   "mimetype": "text/x-python",
   "name": "python",
   "nbconvert_exporter": "python",
   "pygments_lexer": "ipython3",
   "version": "3.8.2-final"
  }
 },
 "nbformat": 4,
 "nbformat_minor": 4
}